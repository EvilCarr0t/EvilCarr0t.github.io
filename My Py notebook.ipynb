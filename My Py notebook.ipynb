{
 "cells": [
  {
   "cell_type": "markdown",
   "id": "ddf9ae4a",
   "metadata": {},
   "source": [
    "Моя записная книжка по языку пайтон\n"
   ]
  },
  {
   "cell_type": "code",
   "execution_count": 21,
   "id": "800ec134",
   "metadata": {},
   "outputs": [
    {
     "name": "stdout",
     "output_type": "stream",
     "text": [
      "[[2, 3, 4, 5]]\n"
     ]
    }
   ],
   "source": [
    "a=[]\n",
    "b=[2,3,4,5]\n",
    "a.append(b)\n",
    "a.sort(reverse=True)\n",
    "print(a)"
   ]
  },
  {
   "cell_type": "code",
   "execution_count": 23,
   "id": "68b7bf09",
   "metadata": {},
   "outputs": [
    {
     "name": "stdout",
     "output_type": "stream",
     "text": [
      "7\n"
     ]
    }
   ],
   "source": [
    "a=3\n",
    "b=4\n",
    "c=a+b\n",
    "print(c)"
   ]
  },
  {
   "cell_type": "code",
   "execution_count": 25,
   "id": "5e7f0a0a",
   "metadata": {},
   "outputs": [
    {
     "name": "stdout",
     "output_type": "stream",
     "text": [
      "среднее значение списка = 15.0\n"
     ]
    }
   ],
   "source": [
    "a=[10,15,20]\n",
    "n=sum(a)\n",
    "m=len(a)\n",
    "med=n/m\n",
    "print(f'среднее значение списка = {med}')"
   ]
  },
  {
   "cell_type": "code",
   "execution_count": 27,
   "id": "a8a0aa81",
   "metadata": {},
   "outputs": [
    {
     "name": "stdout",
     "output_type": "stream",
     "text": [
      "3\n"
     ]
    }
   ],
   "source": [
    "a=10\n",
    "b=7\n",
    "c=a-b\n",
    "print(c)"
   ]
  },
  {
   "cell_type": "code",
   "execution_count": 36,
   "id": "19260bd8",
   "metadata": {},
   "outputs": [
    {
     "name": "stdout",
     "output_type": "stream",
     "text": [
      "введите целое число 10\n",
      "7\n"
     ]
    }
   ],
   "source": [
    "a=int(input(\"введите целое число \"))\n",
    "x=a-3\n",
    "print(x)"
   ]
  }
 ],
 "metadata": {
  "kernelspec": {
   "display_name": "Python 3 (ipykernel)",
   "language": "python",
   "name": "python3"
  },
  "language_info": {
   "codemirror_mode": {
    "name": "ipython",
    "version": 3
   },
   "file_extension": ".py",
   "mimetype": "text/x-python",
   "name": "python",
   "nbconvert_exporter": "python",
   "pygments_lexer": "ipython3",
   "version": "3.10.7"
  }
 },
 "nbformat": 4,
 "nbformat_minor": 5
}
